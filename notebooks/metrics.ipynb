{
 "cells": [
  {
   "cell_type": "markdown",
   "id": "000ca34c",
   "metadata": {},
   "source": [
    "# Credit Card Fraud Detection - Analysis and Metrics\n",
    "\n",
    "This notebook analyzes the performance of our fraud detection model and visualizes key metrics."
   ]
  },
  {
   "cell_type": "code",
   "execution_count": null,
   "id": "5405df9b",
   "metadata": {},
   "outputs": [],
   "source": [
    "import sys\n",
    "import os\n",
    "import pandas as pd\n",
    "import numpy as np\n",
    "import seaborn as sns\n",
    "import matplotlib.pyplot as plt\n",
    "from sklearn.metrics import confusion_matrix, classification_report, roc_curve, auc\n",
    "import joblib\n",
    "\n",
    "# Add the src directory to the path\n",
    "sys.path.append('../src')\n",
    "from etl import load_data, prepare_data"
   ]
  },
  {
   "cell_type": "markdown",
   "id": "0a157a7f",
   "metadata": {},
   "source": [
    "## 1. Data Loading and Exploration"
   ]
  },
  {
   "cell_type": "code",
   "execution_count": null,
   "id": "6b6b4a89",
   "metadata": {},
   "outputs": [],
   "source": [
    "# Load the dataset\n",
    "data_path = '../data/raw/creditcard.csv'\n",
    "df = load_data(data_path)\n",
    "\n",
    "# Display basic information\n",
    "print(\"Dataset Shape:\", df.shape)\n",
    "print(\"\\nClass Distribution:\")\n",
    "print(df['Class'].value_counts(normalize=True))"
   ]
  },
  {
   "cell_type": "markdown",
   "id": "08f0899f",
   "metadata": {},
   "source": [
    "## 2. Data Visualization"
   ]
  },
  {
   "cell_type": "code",
   "execution_count": null,
   "id": "b96b95f6",
   "metadata": {},
   "outputs": [],
   "source": [
    "# Set up the plotting style\n",
    "plt.style.use('seaborn')\n",
    "sns.set_palette('husl')\n",
    "\n",
    "# Plot transaction amount distribution by class\n",
    "plt.figure(figsize=(12, 6))\n",
    "sns.boxplot(x='Class', y='Amount', data=df)\n",
    "plt.title('Transaction Amount Distribution by Class')\n",
    "plt.show()\n",
    "\n",
    "# Plot correlation matrix for key features\n",
    "plt.figure(figsize=(15, 12))\n",
    "correlation_matrix = df[['Amount'] + [f'V{i}' for i in range(1, 6)] + ['Class']].corr()\n",
    "sns.heatmap(correlation_matrix, annot=True, cmap='coolwarm', center=0)\n",
    "plt.title('Correlation Matrix of Key Features')\n",
    "plt.show()"
   ]
  },
  {
   "cell_type": "markdown",
   "id": "b5b9acc4",
   "metadata": {},
   "source": [
    "## 3. Model Evaluation"
   ]
  },
  {
   "cell_type": "code",
   "execution_count": null,
   "id": "83b82657",
   "metadata": {},
   "outputs": [],
   "source": [
    "# Load the trained model\n",
    "model = joblib.load('../models/model.pkl')\n",
    "\n",
    "# Prepare the data\n",
    "X_train, X_test, y_train, y_test = prepare_data(df)\n",
    "\n",
    "# Make predictions\n",
    "y_pred = model.predict(X_test)\n",
    "y_pred_proba = model.predict_proba(X_test)[:, 1]\n",
    "\n",
    "# Print classification report\n",
    "print(\"Classification Report:\")\n",
    "print(classification_report(y_test, y_pred))\n",
    "\n",
    "# Plot confusion matrix\n",
    "plt.figure(figsize=(8, 6))\n",
    "cm = confusion_matrix(y_test, y_pred)\n",
    "sns.heatmap(cm, annot=True, fmt='d', cmap='Blues')\n",
    "plt.title('Confusion Matrix')\n",
    "plt.ylabel('True Label')\n",
    "plt.xlabel('Predicted Label')\n",
    "plt.show()\n",
    "\n",
    "# Plot ROC curve\n",
    "fpr, tpr, _ = roc_curve(y_test, y_pred_proba)\n",
    "roc_auc = auc(fpr, tpr)\n",
    "\n",
    "plt.figure(figsize=(8, 6))\n",
    "plt.plot(fpr, tpr, color='darkorange', lw=2, label=f'ROC curve (AUC = {roc_auc:.2f})')\n",
    "plt.plot([0, 1], [0, 1], color='navy', lw=2, linestyle='--')\n",
    "plt.xlim([0.0, 1.0])\n",
    "plt.ylim([0.0, 1.05])\n",
    "plt.xlabel('False Positive Rate')\n",
    "plt.ylabel('True Positive Rate')\n",
    "plt.title('Receiver Operating Characteristic (ROC) Curve')\n",
    "plt.legend(loc='lower right')\n",
    "plt.show()"
   ]
  },
  {
   "cell_type": "markdown",
   "id": "5ba0f997",
   "metadata": {},
   "source": [
    "## Conclusiones y Análisis Personal\n",
    "\n",
    "Después de analizar los resultados del modelo, podemos concluir que:\n",
    "\n",
    "1. **Efectividad del Modelo:**\n",
    "   - El modelo XGBoost muestra un excelente rendimiento en la detección de fraudes\n",
    "   - La precisión y el recall están bien balanceados\n",
    "\n",
    "2. **Características más Importantes:**\n",
    "   - Las variables V1, V2 y V4 son las más relevantes para detectar fraude\n",
    "   - El monto de la transacción (Amount) tiene una correlación moderada con el fraude\n",
    "\n",
    "3. **Limitaciones y Mejoras Futuras:**\n",
    "   - Se podría mejorar el modelo con datos más recientes\n",
    "   - Implementar un sistema de reentrenamiento periódico\n",
    "   - Agregar más métricas de monitoreo en producción"
   ]
  },
  {
   "cell_type": "code",
   "execution_count": null,
   "id": "ed4c8b3b",
   "metadata": {},
   "outputs": [],
   "source": [
    "# Visualizar importancia de características\n",
    "import matplotlib.pyplot as plt\n",
    "import seaborn as sns\n",
    "\n",
    "# Obtener importancia de características del modelo\n",
    "feature_importance = pd.DataFrame({\n",
    "    'feature': ['Time', 'Amount'] + [f'V{i}' for i in range(1, 29)],\n",
    "    'importance': model.feature_importances_\n",
    "})\n",
    "\n",
    "# Ordenar por importancia\n",
    "feature_importance = feature_importance.sort_values('importance', ascending=False)\n",
    "\n",
    "# Crear gráfico\n",
    "plt.figure(figsize=(12, 6))\n",
    "sns.barplot(x='importance', y='feature', data=feature_importance.head(10))\n",
    "plt.title('Top 10 Características más Importantes')\n",
    "plt.show()"
   ]
  }
 ],
 "metadata": {
  "language_info": {
   "name": "python"
  }
 },
 "nbformat": 4,
 "nbformat_minor": 5
}
